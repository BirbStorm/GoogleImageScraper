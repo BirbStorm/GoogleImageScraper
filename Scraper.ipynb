{
 "cells": [
  {
   "cell_type": "code",
   "execution_count": 166,
   "metadata": {},
   "outputs": [],
   "source": [
    "import os\n",
    "from selenium import webdriver\n",
    "import io\n",
    "from PIL import Image\n",
    "import requests\n",
    "import time\n",
    "import hashlib\n",
    "import re\n",
    "searches_txt = open('searches.txt', 'r')\n",
    "DRIVER = 'chromedriver'"
   ]
  },
  {
   "cell_type": "code",
   "execution_count": 167,
   "metadata": {},
   "outputs": [],
   "source": [
    "def fetch_image_urls(query:str, max_links:int, wd:webdriver,sleep:int=1):\n",
    "    def scroll_to_end(wd):\n",
    "        wd.execute_script(\"window.scrollTo(0, document.body.scrollHeight);\")\n",
    "        time.sleep(sleep)    \n",
    "    \n",
    "    # build the google query\n",
    "    search_url = \"https://www.google.com/search?safe=off&site=&tbm=isch&source=hp&q={q}&oq={q}&gs_l=img\"\n",
    "\n",
    "    # load the page\n",
    "    wd.get(search_url.format(q=query))\n",
    "\n",
    "    image_urls = set()\n",
    "    image_count = 0\n",
    "    results_start = 0\n",
    "    while image_count < max_links:\n",
    "        scroll_to_end(wd)\n",
    "\n",
    "        # get all image thumbnail results\n",
    "        thumbnail_results = wd.find_elements_by_css_selector(\"img.rg_i.Q4LuWd.tx8vtf\")\n",
    "        number_results = len(thumbnail_results)\n",
    "        \n",
    "        print(f\"Found: {number_results} search results. Extracting links from {results_start}:{number_results}\")\n",
    "        \n",
    "        for img in thumbnail_results[results_start:number_results]:\n",
    "            # try to click every thumbnail such that we can get the real image behind it\n",
    "            try:\n",
    "                img.click()\n",
    "                time.sleep(sleep)\n",
    "            except Exception:\n",
    "                continue\n",
    "            # extract image urls    \n",
    "            actual_images = wd.find_elements_by_css_selector('img.n3VNCb')\n",
    "            for actual_image in actual_images:\n",
    "                if (actual_image.get_attribute('src') and re.match('^http$',actual_image.get_attribute('src')[:4])):\n",
    "                    print(actual_image.get_attribute('src')[:4] )\n",
    "                    image_urls.add(actual_image.get_attribute('src'))\n",
    "\n",
    "            image_count = len(image_urls)\n",
    "\n",
    "            if len(image_urls) >= max_links:\n",
    "                print(f\"Found: {len(image_urls)} image links, done!\")\n",
    "                break\n",
    "        else:\n",
    "            print(\"Found:\", len(image_urls), \"image links, looking for more ...\")\n",
    "            time.sleep(1)\n",
    "#             load_more_button = wd.find_element_by_css_selector(\".ksb\")\n",
    "#             if load_more_button:\n",
    "#                 wd.execute_script(\"document.querySelector('.ksb').click();\")\n",
    "\n",
    "        # move the result startpoint further down\n",
    "        results_start = len(thumbnail_results)\n",
    "    return image_urls"
   ]
  },
  {
   "cell_type": "code",
   "execution_count": 168,
   "metadata": {},
   "outputs": [],
   "source": [
    "def download_image(folder_path:str,url:str):\n",
    "    try:\n",
    "        image_content = requests.get(url).content\n",
    "\n",
    "    except Exception as e:\n",
    "        print(f\"ERROR - Could not download {url} - {e}\")\n",
    "\n",
    "    try:\n",
    "        image_file = io.BytesIO(image_content)\n",
    "        image = Image.open(image_file).convert('RGB')\n",
    "        file_path = os.path.join(folder_path,hashlib.sha1(image_content).hexdigest()[:10] + '.jpg')\n",
    "        with open(file_path, 'wb') as f:\n",
    "            image.save(f, \"JPEG\", quality=85)\n",
    "        print(f\"SUCCESS - saved {url} - as {file_path}\")\n",
    "    except Exception as e:\n",
    "        print(f\"ERROR - Could not save {url} - {e}\")"
   ]
  },
  {
   "cell_type": "code",
   "execution_count": 169,
   "metadata": {},
   "outputs": [],
   "source": [
    "def search_and_download(search_term:str,driver_path:str,target_path='./images',number_images=5):\n",
    "    target_folder = os.path.join(target_path,'_'.join(search_term.lower().split(' ')))\n",
    "\n",
    "    if not os.path.exists(target_folder):\n",
    "        os.makedirs(target_folder)\n",
    "\n",
    "    with webdriver.Chrome(executable_path=driver_path) as wd:\n",
    "        res = fetch_image_urls(search_term, number_images, wd=wd, sleep=0.5)\n",
    "        \n",
    "    for i in res:\n",
    "        download_image(target_folder,i)"
   ]
  },
  {
   "cell_type": "code",
   "execution_count": 172,
   "metadata": {},
   "outputs": [
    {
     "name": "stdout",
     "output_type": "stream",
     "text": [
      "Found: 100 search results. Extracting links from 0:100\n",
      "http\n",
      "http\n",
      "http\n",
      "http\n",
      "http\n",
      "Found: 5 image links, done!\n",
      "SUCCESS - saved https://upload.wikimedia.org/wikipedia/commons/thumb/1/11/Test-Logo.svg/783px-Test-Logo.svg.png - as ./images\\test\\cbcb081a29.jpg\n",
      "SUCCESS - saved https://chs.coronadousd.net/static/media/uploads/Coronado%20High%20School/.thumbnails/test%20100%25-300x0.png - as ./images\\test\\fbeb9727ff.jpg\n",
      "SUCCESS - saved https://images.sftcdn.net/images/t_app-cover-l,f_auto/p/befbcde0-9b36-11e6-95b9-00163ed833e7/260663710/the-test-fun-for-friends-screenshot.jpg - as ./images\\test\\a2dc638056.jpg\n",
      "SUCCESS - saved https://inteng-storage.s3.amazonaws.com/img/iea/zBwgmajpGK/sizes/speed-test-tools_resize_md.jpg - as ./images\\test\\226864d2a2.jpg\n",
      "SUCCESS - saved https://www.outbrain.com/techblog/wp-content/uploads/2017/05/road-sign-361513_960_720.jpg - as ./images\\test\\540ddf69ca.jpg\n",
      "Found: 100 search results. Extracting links from 0:100\n",
      "http\n",
      "http\n",
      "http\n",
      "http\n",
      "http\n",
      "Found: 5 image links, done!\n",
      "SUCCESS - saved https://previews.123rf.com/images/adogslifephoto/adogslifephoto1402/adogslifephoto140200116/25850210-labrador-retriever-and-shepherd-mixed-breed-dog-laying-down-against-a-white-backdrop.jpg - as ./images\\dog_laying_down_-cartoon\\fe0369a447.jpg\n",
      "SUCCESS - saved https://i.pinimg.com/originals/6d/42/a9/6d42a946cb79338092c8eb624a06e235.png - as ./images\\dog_laying_down_-cartoon\\4e07f336fe.jpg\n",
      "SUCCESS - saved https://images.unsplash.com/photo-1528345960926-3bde936996ee?ixlib=rb-1.2.1&ixid=eyJhcHBfaWQiOjEyMDd9&w=1000&q=80 - as ./images\\dog_laying_down_-cartoon\\8db5e2856a.jpg\n",
      "SUCCESS - saved https://images.homedepot-static.com/productImages/ff2c8cde-4ab3-4940-add4-423325412b59/svn/hi-line-gift-garden-statues-87690-64_1000.jpg - as ./images\\dog_laying_down_-cartoon\\ca96172e83.jpg\n",
      "SUCCESS - saved https://c8.alamy.com/comp/EB63HC/grey-cane-corso-puppy-dog-laying-down-in-front-of-a-white-background-EB63HC.jpg - as ./images\\dog_laying_down_-cartoon\\29a254016e.jpg\n",
      "Found: 200 search results. Extracting links from 0:200\n",
      "http\n",
      "http\n",
      "http\n",
      "http\n",
      "http\n",
      "Found: 5 image links, done!\n",
      "SUCCESS - saved https://www.bugraptors.com/wp-content/uploads/2016/08/Manual-Testing2-4.jpg - as ./images\\testing2\\011f072e80.jpg\n",
      "SUCCESS - saved https://pbs.twimg.com/profile_images/1153207888111783936/jN3xkFM4_400x400.jpg - as ./images\\testing2\\c9df885da8.jpg\n",
      "SUCCESS - saved https://www.wwaytv3.com/wp-content/uploads/2018/09/abc-of-testing2-1-1.jpg - as ./images\\testing2\\10eeeb4d2b.jpg\n",
      "SUCCESS - saved https://pic.accessify.com/thumbnails/777x423/t/testing2.raptorpos.com.png - as ./images\\testing2\\6a07050dc3.jpg\n",
      "SUCCESS - saved https://www.learningspy.co.uk/wp-content/uploads/2013/06/testing2.jpg - as ./images\\testing2\\fa72dae6f5.jpg\n"
     ]
    }
   ],
   "source": [
    "if __name__ == '__main__':\n",
    "    for line in searches_txt:\n",
    "        search = line.replace('\\n', '')\n",
    "        search_and_download(search_term=search, driver_path=DRIVER)"
   ]
  },
  {
   "cell_type": "code",
   "execution_count": null,
   "metadata": {},
   "outputs": [],
   "source": []
  }
 ],
 "metadata": {
  "kernelspec": {
   "display_name": "Python 3",
   "language": "python",
   "name": "python3"
  },
  "language_info": {
   "codemirror_mode": {
    "name": "ipython",
    "version": 3
   },
   "file_extension": ".py",
   "mimetype": "text/x-python",
   "name": "python",
   "nbconvert_exporter": "python",
   "pygments_lexer": "ipython3",
   "version": "3.7.6"
  }
 },
 "nbformat": 4,
 "nbformat_minor": 4
}
