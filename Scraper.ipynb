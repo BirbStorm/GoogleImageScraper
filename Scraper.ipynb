{
 "cells": [
  {
   "cell_type": "code",
   "execution_count": 29,
   "metadata": {},
   "outputs": [],
   "source": [
    "import os\n",
    "from selenium import webdriver\n",
    "import PIL\n",
    "import requests\n",
    "searches_txt = open('searches.txt', 'r')\n",
    "DRIVER = 'chromedriver'"
   ]
  },
  {
   "cell_type": "code",
   "execution_count": 25,
   "metadata": {},
   "outputs": [],
   "source": [
    "#make a directory if it doesnt exist for each of the searches in .txt\n",
    "searches_arr = []\n",
    "for line in searches:\n",
    "    print(line)\n",
    "    search = line.replace('\\n', '')\n",
    "    print(search)\n",
    "    searches_arr.append(search)\n",
    "    if not os.path.exists(search):\n",
    "        os.makedirs(search)\n",
    "    else:\n",
    "        print('Directory exists')"
   ]
  },
  {
   "cell_type": "code",
   "execution_count": 8,
   "metadata": {},
   "outputs": [],
   "source": [
    "wd = webdriver.Chrome(executable_path=DRIVER)\n",
    "wd.get('https://google.com')"
   ]
  },
  {
   "cell_type": "code",
   "execution_count": 9,
   "metadata": {},
   "outputs": [],
   "source": [
    "search_box = wd.find_element_by_css_selector('input.gLFyf')\n",
    "search_box.send_keys('Dogs')"
   ]
  },
  {
   "cell_type": "code",
   "execution_count": null,
   "metadata": {},
   "outputs": [],
   "source": []
  }
 ],
 "metadata": {
  "kernelspec": {
   "display_name": "Python 3",
   "language": "python",
   "name": "python3"
  },
  "language_info": {
   "codemirror_mode": {
    "name": "ipython",
    "version": 3
   },
   "file_extension": ".py",
   "mimetype": "text/x-python",
   "name": "python",
   "nbconvert_exporter": "python",
   "pygments_lexer": "ipython3",
   "version": "3.7.6"
  }
 },
 "nbformat": 4,
 "nbformat_minor": 4
}
