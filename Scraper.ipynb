{
 "cells": [
  {
   "cell_type": "code",
   "execution_count": 166,
   "metadata": {},
   "outputs": [],
   "source": [
    "import os\n",
    "from selenium import webdriver\n",
    "import io\n",
    "from PIL import Image\n",
    "import requests\n",
    "import time\n",
    "import hashlib\n",
    "import re\n",
    "searches_txt = open('searches.txt', 'r')\n",
    "DRIVER = 'chromedriver'"
   ]
  },
  {
   "cell_type": "code",
   "execution_count": 147,
   "metadata": {},
   "outputs": [],
   "source": [
    "#make a directory if it doesnt exist for each of the searches in .txt\n",
    "searches_arr = []\n",
    "for line in searches:\n",
    "    print(line)\n",
    "    search = line.replace('\\n', '')\n",
    "    print(search)\n",
    "    searches_arr.append(search)\n",
    "    if not os.path.exists(search):\n",
    "        os.makedirs(search)\n",
    "    else:\n",
    "        print('Directory exists')"
   ]
  },
  {
   "cell_type": "code",
   "execution_count": 158,
   "metadata": {},
   "outputs": [],
   "source": [
    "wd = webdriver.Chrome(executable_path=DRIVER)"
   ]
  },
  {
   "cell_type": "code",
   "execution_count": 113,
   "metadata": {},
   "outputs": [],
   "source": [
    "search_box = wd.find_element_by_css_selector('input.gLFyf')\n",
    "search_box.send_keys('Dogs')"
   ]
  },
  {
   "cell_type": "code",
   "execution_count": 167,
   "metadata": {},
   "outputs": [],
   "source": [
    "def fetch_image_urls(query:str, max_links:int, wd:webdriver,sleep:int=1):\n",
    "    def scroll_to_end(wd):\n",
    "        wd.execute_script(\"window.scrollTo(0, document.body.scrollHeight);\")\n",
    "        time.sleep(sleep)    \n",
    "    \n",
    "    # build the google query\n",
    "    search_url = \"https://www.google.com/search?safe=off&site=&tbm=isch&source=hp&q={q}&oq={q}&gs_l=img\"\n",
    "\n",
    "    # load the page\n",
    "    wd.get(search_url.format(q=query))\n",
    "\n",
    "    image_urls = set()\n",
    "    image_count = 0\n",
    "    results_start = 0\n",
    "    while image_count < max_links:\n",
    "        scroll_to_end(wd)\n",
    "\n",
    "        # get all image thumbnail results\n",
    "        thumbnail_results = wd.find_elements_by_css_selector(\"img.rg_i.Q4LuWd.tx8vtf\")\n",
    "        number_results = len(thumbnail_results)\n",
    "        \n",
    "        print(f\"Found: {number_results} search results. Extracting links from {results_start}:{number_results}\")\n",
    "        \n",
    "        for img in thumbnail_results[results_start:number_results]:\n",
    "            # try to click every thumbnail such that we can get the real image behind it\n",
    "            try:\n",
    "                img.click()\n",
    "                time.sleep(sleep)\n",
    "            except Exception:\n",
    "                continue\n",
    "            # extract image urls    \n",
    "            actual_images = wd.find_elements_by_css_selector('img.n3VNCb')\n",
    "            for actual_image in actual_images:\n",
    "                if (actual_image.get_attribute('src') and re.match('^http$',actual_image.get_attribute('src')[:4])):\n",
    "                    print(actual_image.get_attribute('src')[:4] )\n",
    "                    image_urls.add(actual_image.get_attribute('src'))\n",
    "\n",
    "            image_count = len(image_urls)\n",
    "\n",
    "            if len(image_urls) >= max_links:\n",
    "                print(f\"Found: {len(image_urls)} image links, done!\")\n",
    "                break\n",
    "        else:\n",
    "            print(\"Found:\", len(image_urls), \"image links, looking for more ...\")\n",
    "            time.sleep(1)\n",
    "#             load_more_button = wd.find_element_by_css_selector(\".ksb\")\n",
    "#             if load_more_button:\n",
    "#                 wd.execute_script(\"document.querySelector('.ksb').click();\")\n",
    "\n",
    "        # move the result startpoint further down\n",
    "        results_start = len(thumbnail_results)\n",
    "    return image_urls"
   ]
  },
  {
   "cell_type": "code",
   "execution_count": 168,
   "metadata": {},
   "outputs": [],
   "source": [
    "def persist_image(folder_path:str,url:str):\n",
    "    try:\n",
    "        image_content = requests.get(url).content\n",
    "\n",
    "    except Exception as e:\n",
    "        print(f\"ERROR - Could not download {url} - {e}\")\n",
    "\n",
    "    try:\n",
    "        image_file = io.BytesIO(image_content)\n",
    "        image = Image.open(image_file).convert('RGB')\n",
    "        file_path = os.path.join(folder_path,hashlib.sha1(image_content).hexdigest()[:10] + '.jpg')\n",
    "        with open(file_path, 'wb') as f:\n",
    "            image.save(f, \"JPEG\", quality=85)\n",
    "        print(f\"SUCCESS - saved {url} - as {file_path}\")\n",
    "    except Exception as e:\n",
    "        print(f\"ERROR - Could not save {url} - {e}\")"
   ]
  },
  {
   "cell_type": "code",
   "execution_count": 169,
   "metadata": {},
   "outputs": [],
   "source": [
    "def search_and_download(search_term:str,driver_path:str,target_path='./images',number_images=5):\n",
    "    target_folder = os.path.join(target_path,'_'.join(search_term.lower().split(' ')))\n",
    "\n",
    "    if not os.path.exists(target_folder):\n",
    "        os.makedirs(target_folder)\n",
    "\n",
    "    with webdriver.Chrome(executable_path=driver_path) as wd:\n",
    "        res = fetch_image_urls(search_term, number_images, wd=wd, sleep=0.5)\n",
    "        \n",
    "    for elem in res:\n",
    "        persist_image(target_folder,elem)"
   ]
  },
  {
   "cell_type": "code",
   "execution_count": 171,
   "metadata": {},
   "outputs": [
    {
     "name": "stdout",
     "output_type": "stream",
     "text": [
      "Found: 200 search results. Extracting links from 0:200\n",
      "http\n",
      "http\n",
      "http\n",
      "http\n",
      "http\n",
      "Found: 5 image links, done!\n",
      "SUCCESS - saved https://www.cesarsway.com/wp-content/uploads/2019/05/AdobeStock_153430865.jpeg - as ./images\\dog_licking_-cartoon\\0f4fe13708.jpg\n",
      "SUCCESS - saved https://imageserver.petsbest.com/marketing/blog/licking_dog.jpg - as ./images\\dog_licking_-cartoon\\2c0c6001f7.jpg\n",
      "SUCCESS - saved https://www.rover.com/blog/wp-content/uploads/2019/04/Licking-dog-960x540.jpg - as ./images\\dog_licking_-cartoon\\274f0037a5.jpg\n",
      "SUCCESS - saved https://cdn1-www.dogtime.com/assets/uploads/2016/04/dog-licking.jpg - as ./images\\dog_licking_-cartoon\\d6e7dc95f5.jpg\n",
      "SUCCESS - saved https://www.pethealthnetwork.com/sites/default/files/why-does-my-dog-lick-so-much-126832325.jpg - as ./images\\dog_licking_-cartoon\\2bf48f37c6.jpg\n"
     ]
    }
   ],
   "source": [
    "search_term = 'Dog licking -cartoon'\n",
    "search_and_download(search_term=search_term, driver_path=DRIVER)"
   ]
  },
  {
   "cell_type": "code",
   "execution_count": null,
   "metadata": {},
   "outputs": [],
   "source": []
  }
 ],
 "metadata": {
  "kernelspec": {
   "display_name": "Python 3",
   "language": "python",
   "name": "python3"
  },
  "language_info": {
   "codemirror_mode": {
    "name": "ipython",
    "version": 3
   },
   "file_extension": ".py",
   "mimetype": "text/x-python",
   "name": "python",
   "nbconvert_exporter": "python",
   "pygments_lexer": "ipython3",
   "version": "3.7.6"
  }
 },
 "nbformat": 4,
 "nbformat_minor": 4
}
